{
  "cells": [
    {
      "cell_type": "markdown",
      "metadata": {
        "id": "B3h6KKI_ohkP"
      },
      "source": [
        "#Simulação do sistema novo\n",
        " Neste modelo, estamos simulando a previsão do resultado do modelo de reclassificação, usando cadeia de Markov. A cadeia de Markov é uma ferramenta estatística que nos permite prever eventos futuros com base em estados atuais e probabilidades de transição. O problema consiste em prever o estado (Correto ou Incorreto) em um determinado número de compras, usando uma matriz de transição de estados.\n"
      ]
    },
    {
      "cell_type": "markdown",
      "metadata": {
        "id": "IbQzsXyVt3KR"
      },
      "source": [
        "## Importação das bibliotecas necessárias\n"
      ]
    },
    {
      "cell_type": "code",
      "execution_count": 66,
      "metadata": {
        "colab": {
          "base_uri": "https://localhost:8080/"
        },
        "id": "XrCSattvFhHV",
        "outputId": "7a59dc0c-b9e5-4183-f854-b3a5ad46bc89"
      },
      "outputs": [
        {
          "name": "stdout",
          "output_type": "stream",
          "text": [
            "/bin/bash: line 1: ngrok: command not found\n",
            "Requirement already satisfied: flask-ngrok in /usr/local/lib/python3.10/dist-packages (0.0.25)\n",
            "Requirement already satisfied: Flask>=0.8 in /usr/local/lib/python3.10/dist-packages (from flask-ngrok) (2.2.5)\n",
            "Requirement already satisfied: requests in /usr/local/lib/python3.10/dist-packages (from flask-ngrok) (2.31.0)\n",
            "Requirement already satisfied: Werkzeug>=2.2.2 in /usr/local/lib/python3.10/dist-packages (from Flask>=0.8->flask-ngrok) (3.0.1)\n",
            "Requirement already satisfied: Jinja2>=3.0 in /usr/local/lib/python3.10/dist-packages (from Flask>=0.8->flask-ngrok) (3.1.2)\n",
            "Requirement already satisfied: itsdangerous>=2.0 in /usr/local/lib/python3.10/dist-packages (from Flask>=0.8->flask-ngrok) (2.1.2)\n",
            "Requirement already satisfied: click>=8.0 in /usr/local/lib/python3.10/dist-packages (from Flask>=0.8->flask-ngrok) (8.1.7)\n",
            "Requirement already satisfied: charset-normalizer<4,>=2 in /usr/local/lib/python3.10/dist-packages (from requests->flask-ngrok) (3.3.2)\n",
            "Requirement already satisfied: idna<4,>=2.5 in /usr/local/lib/python3.10/dist-packages (from requests->flask-ngrok) (3.4)\n",
            "Requirement already satisfied: urllib3<3,>=1.21.1 in /usr/local/lib/python3.10/dist-packages (from requests->flask-ngrok) (2.0.7)\n",
            "Requirement already satisfied: certifi>=2017.4.17 in /usr/local/lib/python3.10/dist-packages (from requests->flask-ngrok) (2023.7.22)\n",
            "Requirement already satisfied: MarkupSafe>=2.0 in /usr/local/lib/python3.10/dist-packages (from Jinja2>=3.0->Flask>=0.8->flask-ngrok) (2.1.3)\n",
            "/bin/bash: line 1: ngrok: command not found\n"
          ]
        }
      ],
      "source": [
        "!pip install flask-ngrok\n",
        "!ngrok authtoken '27efkTyH0DtigedGS6vnkrcbpqj_4iNT2PCVKPEqpsewei6YW'"
      ]
    },
    {
      "cell_type": "code",
      "execution_count": 67,
      "metadata": {
        "id": "jYDb_tbHLls9"
      },
      "outputs": [],
      "source": [
        "import numpy as np\n",
        "import random as rm\n",
        "import matplotlib.pyplot as plt\n",
        "from flask_ngrok import run_with_ngrok"
      ]
    },
    {
      "cell_type": "markdown",
      "metadata": {
        "id": "Gk1-VRtoudyB"
      },
      "source": [
        "###Nessa etapa, foram adicionados os dois estados, Correto e Incorreto, e também as sequências de possíveis eventos, e no final a matriz de probabilidade no código"
      ]
    },
    {
      "cell_type": "code",
      "execution_count": 68,
      "metadata": {
        "id": "09OLoeUzeXhw"
      },
      "outputs": [],
      "source": [
        "# Os estados\n",
        "states = [\"Correto\", \"Incorreto\"]\n",
        "\n",
        "# Sequências possíveis de eventos\n",
        "transitionName = [[\"CC\", \"CI\"], [\"IC\", \"II\"]]\n",
        "\n",
        "# Matriz de probabilidades (matriz de transição)\n",
        "transitionMatrix = [[0.85, 0.15], [0.15, 0.85]]"
      ]
    },
    {
      "cell_type": "code",
      "execution_count": 69,
      "metadata": {
        "id": "Cz9V7-MVtPWi"
      },
      "outputs": [],
      "source": [
        "from flask import Flask, request, jsonify\n",
        "\n",
        "app = Flask(__name__)\n",
        "run_with_ngrok(app)"
      ]
    },
    {
      "cell_type": "code",
      "execution_count": 70,
      "metadata": {
        "id": "KiHawrBxG8tR"
      },
      "outputs": [],
      "source": [
        "@app.route(\"/\")\n",
        "def index():\n",
        "  return jsonify({\n",
        "\n",
        "      \"message\": \"Send POST request with data in body to check results.\"\n",
        "  })"
      ]
    },
    {
      "cell_type": "markdown",
      "metadata": {
        "id": "skxwRVpyujJ9"
      },
      "source": [
        "##Lógica de simulação\n",
        "\n",
        "No código a seguir, é definida uma função chamada \"forecast\" que implementa um modelo de Markov para prever o estado. A função recebe um argumento, \"purchase\", que representa o número de dias a serem previstos.\n",
        "\n",
        "E no final é possível escolher a quantidade de compras que se deseja simular"
      ]
    },
    {
      "cell_type": "code",
      "execution_count": null,
      "metadata": {
        "colab": {
          "base_uri": "https://localhost:8080/",
          "height": 1000
        },
        "id": "BZ81Sw2qtdda",
        "outputId": "1fe2055a-703b-4e40-fc13-693b70c1b4d4"
      },
      "outputs": [
        {
          "name": "stdout",
          "output_type": "stream",
          "text": [
            "Estado inicial: Correto\n",
            "Possíveis estados: ['Correto', 'Correto', 'Correto', 'Correto', 'Correto', 'Correto', 'Correto', 'Correto', 'Correto', 'Incorreto', 'Incorreto', 'Incorreto', 'Incorreto', 'Incorreto', 'Correto', 'Correto', 'Correto', 'Correto', 'Correto', 'Correto', 'Incorreto', 'Incorreto', 'Incorreto', 'Incorreto', 'Incorreto', 'Incorreto', 'Incorreto', 'Incorreto', 'Incorreto', 'Incorreto', 'Incorreto', 'Correto', 'Correto', 'Correto', 'Correto', 'Incorreto', 'Incorreto', 'Correto', 'Correto', 'Correto', 'Incorreto', 'Correto', 'Correto', 'Correto', 'Correto', 'Correto', 'Correto', 'Correto', 'Correto', 'Incorreto', 'Incorreto', 'Correto', 'Correto', 'Correto', 'Correto', 'Correto', 'Correto', 'Correto', 'Correto', 'Correto', 'Correto', 'Correto', 'Correto', 'Correto', 'Correto', 'Incorreto', 'Incorreto', 'Incorreto', 'Incorreto', 'Incorreto', 'Incorreto', 'Incorreto', 'Correto', 'Correto', 'Correto', 'Correto', 'Correto', 'Correto', 'Correto', 'Correto', 'Incorreto', 'Correto', 'Correto', 'Correto', 'Correto', 'Correto', 'Correto', 'Incorreto', 'Correto', 'Incorreto', 'Incorreto', 'Incorreto', 'Incorreto', 'Incorreto', 'Incorreto', 'Incorreto', 'Correto', 'Correto', 'Correto', 'Correto', 'Correto']\n",
            "Probabilidade da sequência de estados: 1.1715717878399628e-35\n"
          ]
        },
        {
          "data": {
            "image/png": "[encoded data removed]",
            "text/plain": [
              "<Figure size 640x480 with 1 Axes>"
            ]
          },
          "metadata": {},
          "output_type": "display_data"
        },
        {
          "name": "stdout",
          "output_type": "stream",
          "text": [
            " * Serving Flask app '__main__'\n",
            " * Debug mode: off\n"
          ]
        },
        {
          "name": "stderr",
          "output_type": "stream",
          "text": [
            "INFO:werkzeug:\u001b[31m\u001b[1mWARNING: This is a development server. Do not use it in a production deployment. Use a production WSGI server instead.\u001b[0m\n",
            " * Running on http://127.0.0.1:5000\n",
            "INFO:werkzeug:\u001b[33mPress CTRL+C to quit\u001b[0m\n"
          ]
        },
        {
          "name": "stdout",
          "output_type": "stream",
          "text": [
            " * Running on http://fdd0-34-148-177-222.ngrok.io\n",
            " * Traffic stats available on http://127.0.0.1:4040\n"
          ]
        },
        {
          "name": "stderr",
          "output_type": "stream",
          "text": [
            "INFO:werkzeug:127.0.0.1 - - [13/Nov/2023 00:00:01] \"POST /simulate HTTP/1.1\" 200 -\n"
          ]
        },
        {
          "name": "stdout",
          "output_type": "stream",
          "text": [
            "Estado inicial: Correto\n",
            "Possíveis estados: ['Correto', 'Incorreto', 'Incorreto', 'Incorreto', 'Incorreto', 'Incorreto', 'Incorreto', 'Incorreto', 'Incorreto', 'Incorreto', 'Incorreto']\n",
            "Probabilidade da sequência de estados: 5.766503906249999e-09\n"
          ]
        },
        {
          "name": "stderr",
          "output_type": "stream",
          "text": [
            "INFO:werkzeug:127.0.0.1 - - [13/Nov/2023 00:00:02] \"POST /simulate HTTP/1.1\" 200 -\n"
          ]
        },
        {
          "name": "stdout",
          "output_type": "stream",
          "text": [
            "Estado inicial: Correto\n",
            "Possíveis estados: ['Correto', 'Correto', 'Correto', 'Incorreto', 'Incorreto', 'Incorreto', 'Incorreto', 'Incorreto', 'Correto', 'Incorreto', 'Correto']\n",
            "Probabilidade da sequência de estados: 5.945977441406247e-06\n"
          ]
        },
        {
          "name": "stderr",
          "output_type": "stream",
          "text": [
            "INFO:werkzeug:127.0.0.1 - - [13/Nov/2023 00:00:03] \"POST /simulate HTTP/1.1\" 200 -\n"
          ]
        },
        {
          "name": "stdout",
          "output_type": "stream",
          "text": [
            "Estado inicial: Correto\n",
            "Possíveis estados: ['Correto', 'Correto', 'Correto', 'Correto', 'Correto', 'Correto', 'Correto', 'Correto', 'Correto', 'Correto', 'Correto']\n",
            "Probabilidade da sequência de estados: 0.19687440434072256\n"
          ]
        },
        {
          "name": "stderr",
          "output_type": "stream",
          "text": [
            "INFO:werkzeug:127.0.0.1 - - [13/Nov/2023 00:00:04] \"POST /simulate HTTP/1.1\" 200 -\n"
          ]
        },
        {
          "name": "stdout",
          "output_type": "stream",
          "text": [
            "Estado inicial: Correto\n",
            "Possíveis estados: ['Correto', 'Correto', 'Correto', 'Correto', 'Correto', 'Incorreto', 'Incorreto', 'Incorreto', 'Incorreto', 'Incorreto', 'Incorreto']\n",
            "Probabilidade da sequência de estados: 5.945977441406248e-06\n"
          ]
        },
        {
          "name": "stderr",
          "output_type": "stream",
          "text": [
            "INFO:werkzeug:127.0.0.1 - - [13/Nov/2023 00:00:06] \"POST /simulate HTTP/1.1\" 200 -\n"
          ]
        },
        {
          "name": "stdout",
          "output_type": "stream",
          "text": [
            "Estado inicial: Correto\n",
            "Possíveis estados: ['Correto', 'Incorreto', 'Incorreto', 'Incorreto', 'Incorreto', 'Incorreto', 'Incorreto', 'Incorreto', 'Incorreto', 'Correto', 'Correto']\n",
            "Probabilidade da sequência de estados: 1.8516884765624998e-07\n"
          ]
        },
        {
          "name": "stderr",
          "output_type": "stream",
          "text": [
            "INFO:werkzeug:127.0.0.1 - - [13/Nov/2023 00:00:07] \"POST /simulate HTTP/1.1\" 200 -\n"
          ]
        },
        {
          "name": "stdout",
          "output_type": "stream",
          "text": [
            "Estado inicial: Correto\n",
            "Possíveis estados: ['Correto', 'Incorreto', 'Incorreto', 'Incorreto', 'Incorreto', 'Incorreto', 'Incorreto', 'Incorreto', 'Incorreto', 'Incorreto', 'Incorreto']\n",
            "Probabilidade da sequência de estados: 5.766503906249999e-09\n"
          ]
        },
        {
          "name": "stderr",
          "output_type": "stream",
          "text": [
            "INFO:werkzeug:127.0.0.1 - - [13/Nov/2023 00:00:09] \"POST /simulate HTTP/1.1\" 200 -\n"
          ]
        },
        {
          "name": "stdout",
          "output_type": "stream",
          "text": [
            "Estado inicial: Correto\n",
            "Possíveis estados: ['Correto', 'Incorreto', 'Incorreto', 'Incorreto', 'Incorreto', 'Incorreto', 'Incorreto', 'Incorreto', 'Incorreto', 'Incorreto', 'Incorreto']\n",
            "Probabilidade da sequência de estados: 5.766503906249999e-09\n"
          ]
        },
        {
          "name": "stderr",
          "output_type": "stream",
          "text": [
            "INFO:werkzeug:127.0.0.1 - - [13/Nov/2023 00:00:11] \"POST /simulate HTTP/1.1\" 200 -\n"
          ]
        },
        {
          "name": "stdout",
          "output_type": "stream",
          "text": [
            "Estado inicial: Correto\n",
            "Possíveis estados: ['Correto', 'Correto', 'Correto', 'Incorreto', 'Incorreto', 'Incorreto', 'Incorreto', 'Incorreto', 'Incorreto', 'Incorreto', 'Incorreto']\n",
            "Probabilidade da sequência de estados: 1.851688476562499e-07\n"
          ]
        },
        {
          "name": "stderr",
          "output_type": "stream",
          "text": [
            "INFO:werkzeug:127.0.0.1 - - [13/Nov/2023 00:00:13] \"POST /simulate HTTP/1.1\" 200 -\n"
          ]
        },
        {
          "name": "stdout",
          "output_type": "stream",
          "text": [
            "Estado inicial: Correto\n",
            "Possíveis estados: ['Correto', 'Correto', 'Correto', 'Correto', 'Correto', 'Correto', 'Correto', 'Correto', 'Correto', 'Correto', 'Correto']\n",
            "Probabilidade da sequência de estados: 0.19687440434072256\n"
          ]
        }
      ],
      "source": [
        "# Função que implementa o modelo de Markov para prever o estado\n",
        "def forecast(purchase):\n",
        "    # Escolha o estado inicial\n",
        "    currentStatus = \"Correto\"\n",
        "    print(\"Estado inicial: \" + currentStatus)\n",
        "\n",
        "    # Armazene a sequência de estados\n",
        "    statusSequence = [currentStatus]\n",
        "    prob_sequence = []\n",
        "\n",
        "    i = 0\n",
        "    prob = 1\n",
        "\n",
        "    while i != purchase:\n",
        "        if currentStatus == \"Correto\":\n",
        "            change = np.random.choice(transitionName[0], replace=True, p=transitionMatrix[0])\n",
        "            if change == \"CC\":\n",
        "                prob = prob * 0.85\n",
        "                statusSequence.append(\"Correto\")\n",
        "            else:\n",
        "                prob = prob * 0.15\n",
        "                currentStatus = \"Incorreto\"\n",
        "                statusSequence.append(\"Incorreto\")\n",
        "        elif currentStatus == \"Incorreto\":\n",
        "            change = np.random.choice(transitionName[1], replace=True, p=transitionMatrix[1])\n",
        "            if change == \"II\":\n",
        "                prob = prob * 0.15\n",
        "                statusSequence.append(\"Incorreto\")\n",
        "            else:\n",
        "                prob = prob * 0.85\n",
        "                currentStatus = \"Correto\"\n",
        "                statusSequence.append(\"Correto\")\n",
        "\n",
        "        prob_sequence.append(prob)\n",
        "        i += 1\n",
        "\n",
        "    print(\"Possíveis estados: \" + str(statusSequence))\n",
        "    print(\"Probabilidade da sequência de estados: \" + str(prob))\n",
        "\n",
        "    return statusSequence, prob_sequence\n",
        "\n",
        "# Função para prever o estado possível nas próximas compras\n",
        "sequencia_estados, probabilidades = forecast(100)\n",
        "\n",
        "# Armazene contagens de estados \"Correto\" e \"Incorreto\"\n",
        "correto_count = sequencia_estados.count(\"Correto\")\n",
        "incorreto_count = sequencia_estados.count(\"Incorreto\")\n",
        "\n",
        "# Crie um gráfico de barras\n",
        "estados = [\"Correto\", \"Incorreto\"]\n",
        "quantidades = [correto_count, incorreto_count]\n",
        "\n",
        "plt.bar(estados, quantidades)\n",
        "plt.xlabel(\"Estado\")\n",
        "plt.ylabel(\"Quantidade\")\n",
        "plt.title(\"Previsão de Estados\")\n",
        "plt.show()\n",
        "\n",
        "@app.route('/simulate', methods=['POST'])\n",
        "def simulate():\n",
        "    try:\n",
        "        data = request.get_json()\n",
        "        purchase = data.get(\"purchase\", 10000)  # Valor padrão de compra, se não for fornecido no JSON\n",
        "        sequencia_estados, probabilidades = forecast(purchase)\n",
        "        correto_count = sequencia_estados.count(\"Correto\")\n",
        "        incorreto_count = sequencia_estados.count(\"Incorreto\")\n",
        "\n",
        "        result = {\n",
        "            \"estados\": [\"Correto\", \"Incorreto\"],\n",
        "            \"quantidades\": [correto_count, incorreto_count]\n",
        "        }\n",
        "\n",
        "        return jsonify(result), 200\n",
        "    except Exception as e:\n",
        "        return jsonify({\"error\": str(e)}), 500\n",
        "\n",
        "if __name__ == '__main__':\n",
        "    app.run()"
      ]
    },
    {
      "cell_type": "code",
      "execution_count": null,
      "metadata": {},
      "outputs": [],
      "source": [
        "# Função para simular ataques indevidos\n",
        "def simulate_attacks(purchase):\n",
        "    attack_states = [\"Ataque\", \"Seguro\"]\n",
        "    attack_probabilities = [0.1, 0.9]\n",
        "\n",
        "    attack_sequence = [rm.choices(attack_states, attack_probabilities) for _ in range(purchase)]\n",
        "\n",
        "    return attack_sequence"
      ]
    },
    {
      "cell_type": "code",
      "execution_count": null,
      "metadata": {},
      "outputs": [],
      "source": [
        "\n",
        "# Função fictícia para criptografar estados\n",
        "def encrypt_state(state):\n",
        "    return f\"Cripto-{state}\"\n",
        "\n",
        "# Função fictícia para criptografar ataques\n",
        "def encrypt_attack(attack):\n",
        "    return f\"Cripto-{attack}\""
      ]
    },
    {
      "cell_type": "code",
      "execution_count": null,
      "metadata": {},
      "outputs": [],
      "source": [
        "# Função para simular a segurança dos dados\n",
        "def simulate_security(purchase, precision):\n",
        "    sequencia_estados, probabilidades = forecast(purchase, precision)\n",
        "    attack_sequence = simulate_attacks(purchase)\n",
        "\n",
        "    for i in range(len(sequencia_estados)):\n",
        "        if sequencia_estados[i] == \"Correto\":\n",
        "            # Aumente a probabilidade de permanecer em \"Correto\" com base na precisão\n",
        "            probabilidades[i] *= 0.95  # Exemplo: 95% de precisão\n",
        "        else:\n",
        "            # Aumente a probabilidade de permanecer em \"Incorreto\" com base na precisão\n",
        "            probabilidades[i] *= 0.85\n",
        "\n",
        "    return sequencia_estados, attack_sequence, probabilidades\n",
        "     "
      ]
    },
    {
      "cell_type": "code",
      "execution_count": null,
      "metadata": {},
      "outputs": [],
      "source": [
        "# Função para simular o desempenho\n",
        "def simulate_performance(purchase, precision):\n",
        "    start_time = time.time()\n",
        "    sequencia_estados, attack_sequence, probabilidades = simulate_security(purchase, precision)\n",
        "    end_time = time.time()\n",
        "    response_time = end_time - start_time\n",
        "\n",
        "    if response_time > 30:\n",
        "        optimize_code()\n",
        "\n",
        "    return sequencia_estados, attack_sequence, probabilidades, response_time\n",
        "\n",
        "# Função fictícia para otimizar o código\n",
        "def optimize_code():\n",
        "    print(\"Otimizando o código...\")\n",
        "     "
      ]
    },
    {
      "cell_type": "code",
      "execution_count": null,
      "metadata": {},
      "outputs": [],
      "source": [
        "# Função para simular tolerância a falhas\n",
        "def simulate_fault_tolerance(purchase, precision):\n",
        "    sequencia_estados, attack_sequence, probabilidades, response_time = simulate_performance(purchase, precision)\n",
        "\n",
        "    if response_time > 30:\n",
        "        try:\n",
        "            reconnect_to_database()\n",
        "        except ConnectionError:\n",
        "            handle_connection_failure()\n",
        "\n",
        "    return sequencia_estados, attack_sequence, probabilidades, response_time"
      ]
    },
    {
      "cell_type": "code",
      "execution_count": null,
      "metadata": {},
      "outputs": [],
      "source": [
        "# Função fictícia para reconectar ao banco de dados\n",
        "def reconnect_to_database():\n",
        "    print(\"Tentando reconectar ao banco de dados...\")\n",
        "\n",
        "# Função fictícia para lidar com falha de conexão\n",
        "def handle_connection_failure():\n",
        "    print(\"Lidando com falha de conexão...\")\n",
        "     "
      ]
    }
  ],
  "metadata": {
    "colab": {
      "provenance": []
    },
    "kernelspec": {
      "display_name": "Python 3",
      "name": "python3"
    },
    "language_info": {
      "name": "python"
    }
  },
  "nbformat": 4,
  "nbformat_minor": 0
}
