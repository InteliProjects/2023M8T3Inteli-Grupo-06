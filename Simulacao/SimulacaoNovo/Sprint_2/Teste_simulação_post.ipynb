{
  "nbformat": 4,
  "nbformat_minor": 0,
  "metadata": {
    "colab": {
      "provenance": []
    },
    "kernelspec": {
      "name": "python3",
      "display_name": "Python 3"
    },
    "language_info": {
      "name": "python"
    }
  },
  "cells": [
    {
      "cell_type": "code",
      "execution_count": 17,
      "metadata": {
        "colab": {
          "base_uri": "https://localhost:8080/"
        },
        "id": "-10XsL9NjDJ3",
        "outputId": "845ec9aa-381b-4c4b-bbe8-9a92baa97ee4"
      },
      "outputs": [
        {
          "output_type": "stream",
          "name": "stdout",
          "text": [
            "Success!\n",
            "Response from server: {'estados': ['Correto', 'Incorreto'], 'quantidades': [11, 0]}\n"
          ]
        }
      ],
      "source": [
        "import requests\n",
        "import json\n",
        "\n",
        "# The URL where the Flask app is running\n",
        "# Change the port number if your Flask app is running on a different port\n",
        "url = 'http://fdd0-34-148-177-222.ngrok.io/simulate'\n",
        "\n",
        "# The JSON payload with the data to send to the Flask app\n",
        "# This example sends a request to simulate 10 purchases\n",
        "data = {\n",
        "    'purchase': 10\n",
        "}\n",
        "\n",
        "# Send a POST request to the Flask app\n",
        "response = requests.post(url, json=data)\n",
        "\n",
        "# Check if the request was successful\n",
        "if response.status_code == 200:\n",
        "    print('Success!')\n",
        "    print('Response from server:', response.json())\n",
        "else:\n",
        "    print('Failed to get a successful response:', response.status_code)\n",
        "    print('Response content:', response.content)"
      ]
    }
  ]
}