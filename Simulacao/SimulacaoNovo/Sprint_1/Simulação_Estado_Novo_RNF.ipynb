{
  "nbformat": 4,
  "nbformat_minor": 0,
  "metadata": {
    "colab": {
      "provenance": []
    },
    "kernelspec": {
      "name": "python3",
      "display_name": "Python 3"
    },
    "language_info": {
      "name": "python"
    }
  },
  "cells": [
    {
      "cell_type": "code",
      "execution_count": null,
      "metadata": {
        "id": "dtBvdpMCh5zq"
      },
      "outputs": [],
      "source": [
        "import numpy as np\n",
        "import random as rm\n",
        "import time\n",
        "import matplotlib.pyplot as plt"
      ]
    },
    {
      "cell_type": "code",
      "source": [
        "# Estados\n",
        "states = [\"Correto\", \"Incorreto\"]\n",
        "\n",
        "# Sequências possíveis de eventos\n",
        "transitionName = [[\"CC\", \"CI\"], [\"IC\", \"II\"]]"
      ],
      "metadata": {
        "id": "odqyOcUhh94T"
      },
      "execution_count": null,
      "outputs": []
    },
    {
      "cell_type": "code",
      "source": [
        "# Função que implementa o modelo de Markov para prever o estado\n",
        "def forecast(purchase, precision):\n",
        "    currentStatus = \"Correto\"\n",
        "    print(\"Estado inicial: \" + currentStatus)\n",
        "\n",
        "    statusSequence = [currentStatus]\n",
        "    prob_sequence = [1.0]  # Lista de probabilidades iniciais\n",
        "\n",
        "    i = 0\n",
        "\n",
        "    while i != purchase:\n",
        "        if currentStatus == \"Correto\":\n",
        "            change = np.random.choice(transitionName[0], replace=True, p=precision[0])\n",
        "            if change == \"CC\":\n",
        "                prob = 0.85\n",
        "                statusSequence.append(\"Correto\")\n",
        "            else:\n",
        "                prob = 0.15\n",
        "                currentStatus = \"Incorreto\"\n",
        "                statusSequence.append(\"Incorreto\")\n",
        "        elif currentStatus == \"Incorreto\":\n",
        "            change = np.random.choice(transitionName[1], replace=True, p=precision[1])\n",
        "            if change == \"II\":\n",
        "                prob = 0.85\n",
        "                statusSequence.append(\"Incorreto\")\n",
        "            else:\n",
        "                prob = 0.15\n",
        "                currentStatus = \"Correto\"\n",
        "                statusSequence.append(\"Correto\")\n",
        "\n",
        "        prob_sequence.append(prob)\n",
        "        i += 1\n",
        "\n",
        "    print(\"Possíveis estados: \" + str(statusSequence))\n",
        "    print(\"Probabilidade da sequência de estados: \" + str(prob_sequence[-1]))\n",
        "\n",
        "    return statusSequence, prob_sequence\n"
      ],
      "metadata": {
        "id": "piK0SuA7h-SG"
      },
      "execution_count": null,
      "outputs": []
    },
    {
      "cell_type": "code",
      "source": [
        "# Função para simular ataques indevidos\n",
        "def simulate_attacks(purchase):\n",
        "    attack_states = [\"Ataque\", \"Seguro\"]\n",
        "    attack_probabilities = [0.1, 0.9]\n",
        "\n",
        "    attack_sequence = [rm.choices(attack_states, attack_probabilities) for _ in range(purchase)]\n",
        "\n",
        "    return attack_sequence"
      ],
      "metadata": {
        "id": "NsF4IN6wiBpM"
      },
      "execution_count": null,
      "outputs": []
    },
    {
      "cell_type": "code",
      "source": [
        "# Função fictícia para criptografar estados\n",
        "def encrypt_state(state):\n",
        "    return f\"Cripto-{state}\"\n",
        "\n",
        "# Função fictícia para criptografar ataques\n",
        "def encrypt_attack(attack):\n",
        "    return f\"Cripto-{attack}\""
      ],
      "metadata": {
        "id": "IT38URq8iEa5"
      },
      "execution_count": null,
      "outputs": []
    },
    {
      "cell_type": "code",
      "source": [
        "# Função para simular a segurança dos dados\n",
        "def simulate_security(purchase, precision):\n",
        "    sequencia_estados, probabilidades = forecast(purchase, precision)\n",
        "    attack_sequence = simulate_attacks(purchase)\n",
        "\n",
        "    for i in range(len(sequencia_estados)):\n",
        "        if sequencia_estados[i] == \"Correto\":\n",
        "            # Aumente a probabilidade de permanecer em \"Correto\" com base na precisão\n",
        "            probabilidades[i] *= 0.95  # Exemplo: 95% de precisão\n",
        "        else:\n",
        "            # Aumente a probabilidade de permanecer em \"Incorreto\" com base na precisão\n",
        "            probabilidades[i] *= 0.85\n",
        "\n",
        "    return sequencia_estados, attack_sequence, probabilidades"
      ],
      "metadata": {
        "id": "SYTzHWlSiHL9"
      },
      "execution_count": null,
      "outputs": []
    },
    {
      "cell_type": "code",
      "source": [
        "# Função para simular o desempenho\n",
        "def simulate_performance(purchase, precision):\n",
        "    start_time = time.time()\n",
        "    sequencia_estados, attack_sequence, probabilidades = simulate_security(purchase, precision)\n",
        "    end_time = time.time()\n",
        "    response_time = end_time - start_time\n",
        "\n",
        "    if response_time > 30:\n",
        "        optimize_code()\n",
        "\n",
        "    return sequencia_estados, attack_sequence, probabilidades, response_time\n",
        "\n",
        "# Função fictícia para otimizar o código\n",
        "def optimize_code():\n",
        "    print(\"Otimizando o código...\")"
      ],
      "metadata": {
        "id": "RPr_i3EqiJfi"
      },
      "execution_count": null,
      "outputs": []
    },
    {
      "cell_type": "code",
      "source": [
        "# Função para simular tolerância a falhas\n",
        "def simulate_fault_tolerance(purchase, precision):\n",
        "    sequencia_estados, attack_sequence, probabilidades, response_time = simulate_performance(purchase, precision)\n",
        "\n",
        "    if response_time > 30:\n",
        "        try:\n",
        "            reconnect_to_database()\n",
        "        except ConnectionError:\n",
        "            handle_connection_failure()\n",
        "\n",
        "    return sequencia_estados, attack_sequence, probabilidades, response_time"
      ],
      "metadata": {
        "id": "I7YCd6QAiMGx"
      },
      "execution_count": null,
      "outputs": []
    },
    {
      "cell_type": "code",
      "source": [
        "# Função fictícia para reconectar ao banco de dados\n",
        "def reconnect_to_database():\n",
        "    print(\"Tentando reconectar ao banco de dados...\")\n",
        "\n",
        "# Função fictícia para lidar com falha de conexão\n",
        "def handle_connection_failure():\n",
        "    print(\"Lidando com falha de conexão...\")"
      ],
      "metadata": {
        "id": "2f1whlfriQXz"
      },
      "execution_count": null,
      "outputs": []
    },
    {
      "cell_type": "code",
      "source": [
        "# Precisões para os estados \"Correto\" e \"Incorreto\"\n",
        "precision = [[0.85, 0.15], [0.15, 0.85]]\n",
        "\n",
        "# Simulação da tolerância a falhas\n",
        "sequencia_estados, attack_sequence, probabilidades, response_time = simulate_fault_tolerance(40, precision)\n",
        "\n",
        "# Armazenamento das contagens de estados \"Correto\" e \"Incorreto\"\n",
        "correto_count = sequencia_estados.count(\"Correto\")\n",
        "incorreto_count = sequencia_estados.count(\"Incorreto\")\n",
        "\n",
        "# Gráfico de barras\n",
        "estados = [\"Correto\", \"Incorreto\"]\n",
        "quantidades = [correto_count, incorreto_count]\n",
        "\n",
        "plt.bar(estados, quantidades)\n",
        "plt.xlabel(\"Estado\")\n",
        "plt.ylabel(\"Quantidade\")\n",
        "plt.title(\"Previsão de Estados\")\n",
        "plt.show()\n"
      ],
      "metadata": {
        "colab": {
          "base_uri": "https://localhost:8080/",
          "height": 544
        },
        "id": "1b8mVlz0iSws",
        "outputId": "4403576c-e75d-469a-a380-4eec8ba4e151"
      },
      "execution_count": null,
      "outputs": [
        {
          "output_type": "stream",
          "name": "stdout",
          "text": [
            "Estado inicial: Correto\n",
            "Possíveis estados: ['Correto', 'Correto', 'Incorreto', 'Incorreto', 'Incorreto', 'Correto', 'Incorreto', 'Incorreto', 'Incorreto', 'Incorreto', 'Incorreto', 'Incorreto', 'Correto', 'Correto', 'Correto', 'Correto', 'Correto', 'Correto', 'Correto', 'Correto', 'Correto', 'Correto', 'Correto', 'Correto', 'Correto', 'Correto', 'Correto', 'Correto', 'Correto', 'Correto', 'Correto', 'Correto', 'Correto', 'Correto', 'Correto', 'Correto', 'Correto', 'Correto', 'Incorreto', 'Incorreto', 'Incorreto']\n",
            "Probabilidade da sequência de estados: 0.85\n"
          ]
        },
        {
          "output_type": "display_data",
          "data": {
            "text/plain": [
              "<Figure size 640x480 with 1 Axes>"
            ],
            "image/png": "[encoded data removed]"
          },
          "metadata": {}
        }
      ]
    }
  ]
}