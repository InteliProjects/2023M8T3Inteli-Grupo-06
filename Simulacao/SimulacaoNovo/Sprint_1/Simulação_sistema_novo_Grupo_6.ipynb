{
  "nbformat": 4,
  "nbformat_minor": 0,
  "metadata": {
    "colab": {
      "provenance": []
    },
    "kernelspec": {
      "name": "python3",
      "display_name": "Python 3"
    },
    "language_info": {
      "name": "python"
    }
  },
  "cells": [
    {
      "cell_type": "markdown",
      "source": [
        "#Simulação do sistema novo\n",
        " Neste modelo, estamos simulando a previsão do resultado do modelo de reclassificação, usando cadeia de Markov. A cadeia de Markov é uma ferramenta estatística que nos permite prever eventos futuros com base em estados atuais e probabilidades de transição. O problema consiste em prever o estado (Correto ou Incorreto) em um determinado número de compras, usando uma matriz de transição de estados.\n"
      ],
      "metadata": {
        "id": "B3h6KKI_ohkP"
      }
    },
    {
      "cell_type": "markdown",
      "source": [
        "## Importação das bibliotecas necessárias\n"
      ],
      "metadata": {
        "id": "IbQzsXyVt3KR"
      }
    },
    {
      "cell_type": "code",
      "execution_count": 1,
      "metadata": {
        "id": "jYDb_tbHLls9"
      },
      "outputs": [],
      "source": [
        "import numpy as np\n",
        "import random as rm\n",
        "import matplotlib.pyplot as plt"
      ]
    },
    {
      "cell_type": "markdown",
      "source": [
        "###Nessa etapa, foram adicionados os dois estados, Correto e Incorreto, e também as sequências de possíveis eventos, e no final a matriz de probabilidade no código"
      ],
      "metadata": {
        "id": "Gk1-VRtoudyB"
      }
    },
    {
      "cell_type": "code",
      "source": [
        "# Os estados\n",
        "states = [\"Correto\", \"Incorreto\"]\n",
        "\n",
        "# Sequências possíveis de eventos\n",
        "transitionName = [[\"CC\", \"CI\"], [\"IC\", \"II\"]]\n",
        "\n",
        "# Matriz de probabilidades (matriz de transição)\n",
        "transitionMatrix = [[0.85, 0.15], [0.15, 0.85]]"
      ],
      "metadata": {
        "id": "09OLoeUzeXhw"
      },
      "execution_count": 2,
      "outputs": []
    },
    {
      "cell_type": "markdown",
      "source": [
        "##Lógica de simulação\n",
        "\n",
        "No código a seguir, é definida uma função chamada \"forecast\" que implementa um modelo de Markov para prever o estado. A função recebe um argumento, \"purchase\", que representa o número de dias a serem previstos.\n",
        "\n",
        "E no final é possível escolher a quantidade de compras que se deseja simular"
      ],
      "metadata": {
        "id": "skxwRVpyujJ9"
      }
    },
    {
      "cell_type": "code",
      "source": [
        "# Função que implementa o modelo de Markov para prever o estado\n",
        "def forecast(purchase):\n",
        "    # Escolha o estado inicial\n",
        "    currentStatus = \"Correto\"\n",
        "    print(\"Estado inicial: \" + currentStatus)\n",
        "\n",
        "    # Armazene a sequência de estados\n",
        "    statusSequence = [currentStatus]\n",
        "    prob_sequence = []\n",
        "\n",
        "    i = 0\n",
        "    prob = 1\n",
        "\n",
        "    while i != purchase:\n",
        "        if currentStatus == \"Correto\":\n",
        "            change = np.random.choice(transitionName[0], replace=True, p=transitionMatrix[0])\n",
        "            if change == \"CC\":\n",
        "                prob = prob * 0.85\n",
        "                statusSequence.append(\"Correto\")\n",
        "            else:\n",
        "                prob = prob * 0.15\n",
        "                currentStatus = \"Incorreto\"\n",
        "                statusSequence.append(\"Incorreto\")\n",
        "        elif currentStatus == \"Incorreto\":\n",
        "            change = np.random.choice(transitionName[1], replace=True, p=transitionMatrix[1])\n",
        "            if change == \"II\":\n",
        "                prob = prob * 0.15\n",
        "                statusSequence.append(\"Incorreto\")\n",
        "            else:\n",
        "                prob = prob * 0.85\n",
        "                currentStatus = \"Correto\"\n",
        "                statusSequence.append(\"Correto\")\n",
        "\n",
        "        prob_sequence.append(prob)\n",
        "        i += 1\n",
        "\n",
        "    print(\"Possíveis estados: \" + str(statusSequence))\n",
        "    print(\"Probabilidade da sequência de estados: \" + str(prob))\n",
        "\n",
        "    return statusSequence, prob_sequence\n",
        "\n",
        "# Função para prever o estado possível nas próximas compras\n",
        "sequencia_estados, probabilidades = forecast(100)\n",
        "\n",
        "# Armazene contagens de estados \"Correto\" e \"Incorreto\"\n",
        "correto_count = sequencia_estados.count(\"Correto\")\n",
        "incorreto_count = sequencia_estados.count(\"Incorreto\")\n",
        "\n",
        "# Crie um gráfico de barras\n",
        "estados = [\"Correto\", \"Incorreto\"]\n",
        "quantidades = [correto_count, incorreto_count]\n",
        "\n",
        "plt.bar(estados, quantidades)\n",
        "plt.xlabel(\"Estado\")\n",
        "plt.ylabel(\"Quantidade\")\n",
        "plt.title(\"Previsão de Estados\")\n",
        "plt.show()"
      ],
      "metadata": {
        "colab": {
          "base_uri": "https://localhost:8080/",
          "height": 544
        },
        "id": "rnsrqvEcb5hM",
        "outputId": "a9069a75-4051-4ba4-e3f6-ed19f8c3f184"
      },
      "execution_count": 18,
      "outputs": [
        {
          "output_type": "stream",
          "name": "stdout",
          "text": [
            "Estado inicial: Correto\n",
            "Possíveis estados: ['Correto', 'Correto', 'Correto', 'Correto', 'Correto', 'Incorreto', 'Incorreto', 'Incorreto', 'Incorreto', 'Incorreto', 'Correto', 'Correto', 'Correto', 'Correto', 'Correto', 'Correto', 'Correto', 'Correto', 'Correto', 'Correto', 'Correto', 'Correto', 'Correto', 'Correto', 'Correto', 'Correto', 'Correto', 'Correto', 'Correto', 'Correto', 'Correto', 'Incorreto', 'Incorreto', 'Incorreto', 'Incorreto', 'Correto', 'Correto', 'Correto', 'Incorreto', 'Incorreto', 'Incorreto', 'Correto', 'Correto', 'Correto', 'Incorreto', 'Incorreto', 'Correto', 'Correto', 'Correto', 'Correto', 'Correto', 'Correto', 'Correto', 'Incorreto', 'Incorreto', 'Incorreto', 'Incorreto', 'Incorreto', 'Incorreto', 'Correto', 'Correto', 'Correto', 'Correto', 'Correto', 'Incorreto', 'Correto', 'Correto', 'Incorreto', 'Correto', 'Correto', 'Correto', 'Correto', 'Correto', 'Incorreto', 'Incorreto', 'Incorreto', 'Incorreto', 'Incorreto', 'Incorreto', 'Correto', 'Correto', 'Correto', 'Correto', 'Correto', 'Correto', 'Correto', 'Correto', 'Correto', 'Incorreto', 'Incorreto', 'Correto', 'Incorreto', 'Correto', 'Correto', 'Correto', 'Correto', 'Correto', 'Incorreto', 'Incorreto', 'Incorreto', 'Incorreto']\n",
            "Probabilidade da sequência de estados: 3.762047185397213e-34\n"
          ]
        },
        {
          "output_type": "display_data",
          "data": {
            "text/plain": [
              "<Figure size 640x480 with 1 Axes>"
            ],
            "image/png": "[encoded data removed]"
          },
          "metadata": {}
        }
      ]
    }
  ]
}