{
  "cells": [
    {
      "cell_type": "markdown",
      "metadata": {
        "id": "B3h6KKI_ohkP"
      },
      "source": [
        "#Simulação do sistema novo\n",
        " Neste modelo, estamos simulando a previsão do resultado do modelo de reclassificação, usando cadeia de Markov. A cadeia de Markov é uma ferramenta estatística que nos permite prever eventos futuros com base em estados atuais e probabilidades de transição. O problema consiste em prever o estado (Correto ou Incorreto) em um determinado número de compras, usando uma matriz de transição de estados.\n"
      ]
    },
    {
      "cell_type": "markdown",
      "metadata": {
        "id": "IbQzsXyVt3KR"
      },
      "source": [
        "## Importação das bibliotecas necessárias\n"
      ]
    },
    {
      "cell_type": "code",
      "execution_count": 2,
      "metadata": {
        "colab": {
          "base_uri": "https://localhost:8080/"
        },
        "id": "XrCSattvFhHV",
        "outputId": "d0908095-ec4b-481d-dd43-79bd91157b60"
      },
      "outputs": [
        {
          "output_type": "stream",
          "name": "stdout",
          "text": [
            "Collecting flask-ngrok\n",
            "  Downloading flask_ngrok-0.0.25-py3-none-any.whl (3.1 kB)\n",
            "Requirement already satisfied: Flask>=0.8 in /usr/local/lib/python3.10/dist-packages (from flask-ngrok) (2.2.5)\n",
            "Requirement already satisfied: requests in /usr/local/lib/python3.10/dist-packages (from flask-ngrok) (2.31.0)\n",
            "Requirement already satisfied: Werkzeug>=2.2.2 in /usr/local/lib/python3.10/dist-packages (from Flask>=0.8->flask-ngrok) (3.0.1)\n",
            "Requirement already satisfied: Jinja2>=3.0 in /usr/local/lib/python3.10/dist-packages (from Flask>=0.8->flask-ngrok) (3.1.2)\n",
            "Requirement already satisfied: itsdangerous>=2.0 in /usr/local/lib/python3.10/dist-packages (from Flask>=0.8->flask-ngrok) (2.1.2)\n",
            "Requirement already satisfied: click>=8.0 in /usr/local/lib/python3.10/dist-packages (from Flask>=0.8->flask-ngrok) (8.1.7)\n",
            "Requirement already satisfied: charset-normalizer<4,>=2 in /usr/local/lib/python3.10/dist-packages (from requests->flask-ngrok) (3.3.2)\n",
            "Requirement already satisfied: idna<4,>=2.5 in /usr/local/lib/python3.10/dist-packages (from requests->flask-ngrok) (3.4)\n",
            "Requirement already satisfied: urllib3<3,>=1.21.1 in /usr/local/lib/python3.10/dist-packages (from requests->flask-ngrok) (2.0.7)\n",
            "Requirement already satisfied: certifi>=2017.4.17 in /usr/local/lib/python3.10/dist-packages (from requests->flask-ngrok) (2023.7.22)\n",
            "Requirement already satisfied: MarkupSafe>=2.0 in /usr/local/lib/python3.10/dist-packages (from Jinja2>=3.0->Flask>=0.8->flask-ngrok) (2.1.3)\n",
            "Installing collected packages: flask-ngrok\n",
            "Successfully installed flask-ngrok-0.0.25\n",
            "/bin/bash: line 1: ngrok: command not found\n"
          ]
        }
      ],
      "source": [
        "!pip install flask-ngrok\n",
        "!ngrok authtoken '27efkTyH0DtigedGS6vnkrcbpqj_4iNT2PCVKPEqpsewei6YW'"
      ]
    },
    {
      "cell_type": "code",
      "execution_count": 3,
      "metadata": {
        "id": "jYDb_tbHLls9"
      },
      "outputs": [],
      "source": [
        "import numpy as np\n",
        "import random as rm\n",
        "import matplotlib.pyplot as plt\n",
        "from flask_ngrok import run_with_ngrok"
      ]
    },
    {
      "cell_type": "markdown",
      "metadata": {
        "id": "Gk1-VRtoudyB"
      },
      "source": [
        "###Nessa etapa, foram adicionados os dois estados, Correto e Incorreto, e também as sequências de possíveis eventos, e no final a matriz de probabilidade no código"
      ]
    },
    {
      "cell_type": "code",
      "execution_count": 5,
      "metadata": {
        "id": "09OLoeUzeXhw"
      },
      "outputs": [],
      "source": [
        "# Novos estados\n",
        "states = [\"Correto\", \"Excecao1\", \"Excecao2\", \"Falha\"]\n",
        "\n",
        "# Novas sequências possíveis de eventos\n",
        "transitionName = [[\"CC\", \"C1\", \"C2\", \"CF\"], [\"1C\", \"11\", \"12\", \"1F\"], [\"2C\", \"21\", \"22\", \"2F\"], [\"FC\", \"F1\", \"F2\", \"FF\"]]\n",
        "\n",
        "# Nova matriz de probabilidades (matriz de transição)\n",
        "transitionMatrix = [[0.85, 0.05, 0.05, 0.05], [0.05, 0.85, 0.05, 0.05], [0.05, 0.05, 0.85, 0.05], [0.05, 0.05, 0.05, 0.85]]\n"
      ]
    },
    {
      "cell_type": "code",
      "execution_count": 6,
      "metadata": {
        "id": "Cz9V7-MVtPWi"
      },
      "outputs": [],
      "source": [
        "from flask import Flask, request, jsonify\n",
        "\n",
        "app = Flask(__name__)\n",
        "run_with_ngrok(app)"
      ]
    },
    {
      "cell_type": "code",
      "execution_count": 7,
      "metadata": {
        "id": "KiHawrBxG8tR"
      },
      "outputs": [],
      "source": [
        "@app.route(\"/\")\n",
        "def index():\n",
        "  return jsonify({\n",
        "\n",
        "      \"message\": \"Send POST request with data in body to check results.\"\n",
        "  })"
      ]
    },
    {
      "cell_type": "markdown",
      "metadata": {
        "id": "skxwRVpyujJ9"
      },
      "source": [
        "##Lógica de simulação\n",
        "\n",
        "No código a seguir, é definida uma função chamada \"forecast\" que implementa um modelo de Markov para prever o estado. A função recebe um argumento, \"purchase\", que representa o número de dias a serem previstos.\n",
        "\n",
        "E no final é possível escolher a quantidade de compras que se deseja simular"
      ]
    },
    {
      "cell_type": "code",
      "execution_count": 8,
      "metadata": {
        "colab": {
          "base_uri": "https://localhost:8080/",
          "height": 666
        },
        "id": "BZ81Sw2qtdda",
        "outputId": "71ceff54-18c0-413d-c42a-3e65227e3959"
      },
      "outputs": [
        {
          "output_type": "stream",
          "name": "stdout",
          "text": [
            "Estado inicial: Correto\n",
            "Possíveis estados: ['Correto', 'Correto', 'Correto', 'Correto', 'Correto', 'Correto', 'Correto', 'Correto', 'Correto', 'Correto', 'Correto', 'Correto', 'Correto', 'Correto', 'Falha', 'Falha', 'Falha', 'Excecao2', 'Excecao2', 'Excecao2', 'Excecao2', 'Falha', 'Falha', 'Falha', 'Excecao1', 'Excecao1', 'Excecao1', 'Excecao1', 'Excecao2', 'Excecao2', 'Excecao2', 'Excecao2', 'Excecao2', 'Excecao2', 'Excecao1', 'Correto', 'Excecao2', 'Excecao2', 'Excecao2', 'Correto', 'Correto', 'Falha', 'Falha', 'Falha', 'Falha', 'Falha', 'Falha', 'Falha', 'Falha', 'Falha', 'Correto', 'Correto', 'Correto', 'Correto', 'Correto', 'Correto', 'Correto', 'Correto', 'Correto', 'Correto', 'Correto', 'Correto', 'Correto', 'Correto', 'Excecao1', 'Excecao1', 'Excecao1', 'Excecao1', 'Excecao1', 'Excecao1', 'Excecao1', 'Excecao1', 'Excecao1', 'Excecao1', 'Excecao1', 'Excecao1', 'Excecao1', 'Falha', 'Falha', 'Falha', 'Falha', 'Falha', 'Falha', 'Excecao1', 'Excecao1', 'Excecao1', 'Falha', 'Falha', 'Falha', 'Falha', 'Falha', 'Falha', 'Falha', 'Correto', 'Correto', 'Correto', 'Correto', 'Correto', 'Correto', 'Correto', 'Correto']\n",
            "Probabilidade da sequência de estados: 1.797669414357869e-27\n"
          ]
        },
        {
          "output_type": "display_data",
          "data": {
            "text/plain": [
              "<Figure size 640x480 with 1 Axes>"
            ],
            "image/png": "[encoded data removed]"
          },
          "metadata": {}
        },
        {
          "output_type": "stream",
          "name": "stdout",
          "text": [
            " * Serving Flask app '__main__'\n",
            " * Debug mode: off\n"
          ]
        },
        {
          "output_type": "stream",
          "name": "stderr",
          "text": [
            "INFO:werkzeug:\u001b[31m\u001b[1mWARNING: This is a development server. Do not use it in a production deployment. Use a production WSGI server instead.\u001b[0m\n",
            " * Running on http://127.0.0.1:5000\n",
            "INFO:werkzeug:\u001b[33mPress CTRL+C to quit\u001b[0m\n"
          ]
        },
        {
          "output_type": "stream",
          "name": "stdout",
          "text": [
            " * Running on http://4050-34-86-94-76.ngrok.io\n",
            " * Traffic stats available on http://127.0.0.1:4040\n"
          ]
        }
      ],
      "source": [
        "# Função que implementa o modelo de Markov para prever o estado\n",
        "def forecast(purchase):\n",
        "    # Escolha o estado inicial\n",
        "    currentStatus = \"Correto\"\n",
        "    print(\"Estado inicial: \" + currentStatus)\n",
        "\n",
        "    # Armazene a sequência de estados\n",
        "    statusSequence = [currentStatus]\n",
        "    prob_sequence = []\n",
        "\n",
        "    i = 0\n",
        "    prob = 1\n",
        "\n",
        "    while i != purchase:\n",
        "        if currentStatus == \"Correto\":\n",
        "            change = np.random.choice(transitionName[0], replace=True, p=transitionMatrix[0])\n",
        "            if change == \"CC\":\n",
        "                prob = prob * 0.85\n",
        "                statusSequence.append(\"Correto\")\n",
        "            elif change == \"C1\":\n",
        "                prob = prob * 0.05\n",
        "                currentStatus = \"Excecao1\"\n",
        "                statusSequence.append(\"Excecao1\")\n",
        "            elif change == \"C2\":\n",
        "                prob = prob * 0.05\n",
        "                currentStatus = \"Excecao2\"\n",
        "                statusSequence.append(\"Excecao2\")\n",
        "            else:\n",
        "                prob = prob * 0.05\n",
        "                currentStatus = \"Falha\"\n",
        "                statusSequence.append(\"Falha\")\n",
        "        elif currentStatus == \"Excecao1\":\n",
        "            change = np.random.choice(transitionName[1], replace=True, p=transitionMatrix[1])\n",
        "            if change == \"1C\":\n",
        "                prob = prob * 0.05\n",
        "                currentStatus = \"Correto\"\n",
        "                statusSequence.append(\"Correto\")\n",
        "            elif change == \"11\":\n",
        "                prob = prob * 0.85\n",
        "                statusSequence.append(\"Excecao1\")\n",
        "            elif change == \"12\":\n",
        "                prob = prob * 0.05\n",
        "                currentStatus = \"Excecao2\"\n",
        "                statusSequence.append(\"Excecao2\")\n",
        "            else:\n",
        "                prob = prob * 0.05\n",
        "                currentStatus = \"Falha\"\n",
        "                statusSequence.append(\"Falha\")\n",
        "        elif currentStatus == \"Excecao2\":\n",
        "            change = np.random.choice(transitionName[2], replace=True, p=transitionMatrix[2])\n",
        "            if change == \"2C\":\n",
        "                prob = prob * 0.05\n",
        "                currentStatus = \"Correto\"\n",
        "                statusSequence.append(\"Correto\")\n",
        "            elif change == \"21\":\n",
        "                prob = prob * 0.05\n",
        "                currentStatus = \"Excecao1\"\n",
        "                statusSequence.append(\"Excecao1\")\n",
        "            elif change == \"22\":\n",
        "                prob = prob * 0.85\n",
        "                statusSequence.append(\"Excecao2\")\n",
        "            else:\n",
        "                prob = prob * 0.05\n",
        "                currentStatus = \"Falha\"\n",
        "                statusSequence.append(\"Falha\")\n",
        "        else:  # \"Falha\"\n",
        "            change = np.random.choice(transitionName[3], replace=True, p=transitionMatrix[3])\n",
        "            if change == \"FC\":\n",
        "                prob = prob * 0.05\n",
        "                currentStatus = \"Correto\"\n",
        "                statusSequence.append(\"Correto\")\n",
        "            elif change == \"F1\":\n",
        "                prob = prob * 0.05\n",
        "                currentStatus = \"Excecao1\"\n",
        "                statusSequence.append(\"Excecao1\")\n",
        "            elif change == \"F2\":\n",
        "                prob = prob * 0.05\n",
        "                currentStatus = \"Excecao2\"\n",
        "                statusSequence.append(\"Excecao2\")\n",
        "            else:\n",
        "                prob = prob * 0.85\n",
        "                statusSequence.append(\"Falha\")\n",
        "        prob_sequence.append(prob)\n",
        "        i += 1\n",
        "\n",
        "    print(\"Possíveis estados: \" + str(statusSequence))\n",
        "    print(\"Probabilidade da sequência de estados: \" + str(prob))\n",
        "\n",
        "    return statusSequence, prob_sequence\n",
        "\n",
        "# Função para prever o estado possível nas próximas compras\n",
        "sequencia_estados, probabilidades = forecast(100)\n",
        "\n",
        "# Armazene contagens de estados\n",
        "estado_counts = {\n",
        "    \"Correto\": sequencia_estados.count(\"Correto\"),\n",
        "    \"Excecao1\": sequencia_estados.count(\"Excecao1\"),\n",
        "    \"Excecao2\": sequencia_estados.count(\"Excecao2\"),\n",
        "    \"Falha\": sequencia_estados.count(\"Falha\")\n",
        "}\n",
        "\n",
        "# Crie um gráfico de barras\n",
        "plt.bar(estado_counts.keys(), estado_counts.values())\n",
        "plt.xlabel(\"Estado\")\n",
        "plt.ylabel(\"Quantidade\")\n",
        "plt.title(\"Previsão de Estados\")\n",
        "plt.show()\n",
        "\n",
        "@app.route('/simulate', methods=['POST'])\n",
        "def simulate():\n",
        "    try:\n",
        "        data = request.get_json()\n",
        "        purchase = data.get(\"purchase\", 10000)  # Valor padrão de compra, se não for fornecido no JSON\n",
        "        sequencia_estados, probabilidades = forecast(purchase)\n",
        "        correto_count = sequencia_estados.count(\"Correto\")\n",
        "        incorreto_count = sequencia_estados.count(\"Incorreto\")\n",
        "\n",
        "        result = {\n",
        "            \"estados\": [\"Correto\", \"Incorreto\"],\n",
        "            \"quantidades\": [correto_count, incorreto_count]\n",
        "        }\n",
        "\n",
        "        return jsonify(result), 200\n",
        "    except Exception as e:\n",
        "        return jsonify({\"error\": str(e)}), 500\n",
        "\n",
        "if __name__ == '__main__':\n",
        "    app.run()"
      ]
    },
    {
      "cell_type": "code",
      "source": [
        "import numpy as np\n",
        "import matplotlib.pyplot as plt\n",
        "\n",
        "# Função para simular a cadeia de Markov\n",
        "def markov_chain(trans_matrix, initial_state, steps):\n",
        "    current_state = initial_state\n",
        "    states_sequence = [current_state]\n",
        "\n",
        "    for _ in range(steps):\n",
        "        current_state = np.random.choice(['Correto', 'Excecao1', 'Excecao2', 'Falha'], p=trans_matrix[current_state])\n",
        "        states_sequence.append(current_state)\n",
        "\n",
        "    return states_sequence\n",
        "\n",
        "# Definindo a matriz de transição\n",
        "trans_matrix = {\n",
        "    'Correto': [0.85, 0.05, 0.05, 0.05],  # Probabilidades de ir de 'Correto' para cada um dos estados\n",
        "    'Excecao1': [0.85, 0.05, 0.05, 0.05],  # Probabilidades de ir de 'Falha1' para cada um dos estados\n",
        "    'Excecao2': [0.85, 0.05, 0.05, 0.05],  # Probabilidades de ir de 'Falha2' para cada um dos estados\n",
        "    'Falha': [0.85, 0.05, 0.05, 0.05]   # Probabilidades de ir de 'Falha3' para cada um dos estados\n",
        "}\n",
        "\n",
        "# Simular a cadeia de Markov para 50 amostras\n",
        "initial_state = 'Correto'\n",
        "steps = 50\n",
        "sequence = markov_chain(trans_matrix, initial_state, steps)\n",
        "\n",
        "# Contar a ocorrência de cada estado\n",
        "estado_counts = {\n",
        "    \"Correto\": sequence.count(\"Correto\"),\n",
        "    \"Excecao1\": sequence.count(\"Excecao1\"),\n",
        "    \"Excecao2\": sequence.count(\"Excecao2\"),\n",
        "    \"Falha\": sequence.count(\"Falha\")\n",
        "}\n",
        "\n",
        "# Imprimir a quantidade de cada estado\n",
        "print(\"\\nQuantidade de cada estado:\")\n",
        "for estado, quantidade in estado_counts.items():\n",
        "    print(f\"{estado}: {quantidade}\")\n",
        "\n",
        "# Criar o gráfico de barras\n",
        "plt.bar(estado_counts.keys(), estado_counts.values())\n",
        "plt.xlabel(\"Estado\")\n",
        "plt.ylabel(\"Quantidade\")\n",
        "plt.title(\"Distribuição dos Estados em uma Cadeia de Markov\")\n",
        "plt.show()\n",
        "\n"
      ],
      "metadata": {
        "colab": {
          "base_uri": "https://localhost:8080/",
          "height": 576
        },
        "id": "qvdf2iRlmRMC",
        "outputId": "980eb8cb-7d01-40e5-b76f-9038736fe485"
      },
      "execution_count": 13,
      "outputs": [
        {
          "output_type": "stream",
          "name": "stdout",
          "text": [
            "\n",
            "Quantidade de cada estado:\n",
            "Correto: 37\n",
            "Excecao1: 5\n",
            "Excecao2: 3\n",
            "Falha: 6\n"
          ]
        },
        {
          "output_type": "display_data",
          "data": {
            "text/plain": [
              "<Figure size 640x480 with 1 Axes>"
            ],
            "image/png": "[encoded data removed]"
          },
          "metadata": {}
        }
      ]
    },
    {
      "cell_type": "code",
      "source": [
        "# Função para simular ataques indevidos\n",
        "def simulate_attacks(purchase):\n",
        "    attack_states = [\"Ataque\", \"Seguro\"]\n",
        "    attack_probabilities = [0.1, 0.9]\n",
        "\n",
        "    attack_sequence = [rm.choices(attack_states, attack_probabilities) for _ in range(purchase)]\n",
        "\n",
        "    return attack_sequence"
      ],
      "metadata": {
        "id": "ywessOIpiygg"
      },
      "execution_count": null,
      "outputs": []
    },
    {
      "cell_type": "code",
      "source": [
        "\n",
        "# Função fictícia para criptografar estados\n",
        "def encrypt_state(state):\n",
        "    return f\"Cripto-{state}\"\n",
        "\n",
        "# Função fictícia para criptografar ataques\n",
        "def encrypt_attack(attack):\n",
        "    return f\"Cripto-{attack}\""
      ],
      "metadata": {
        "id": "uj3aNWmGiyiu"
      },
      "execution_count": null,
      "outputs": []
    },
    {
      "cell_type": "code",
      "source": [
        "# Função para simular a segurança dos dados\n",
        "def simulate_security(purchase, precision):\n",
        "    sequencia_estados, probabilidades = forecast(purchase, precision)\n",
        "    attack_sequence = simulate_attacks(purchase)\n",
        "\n",
        "    for i in range(len(sequencia_estados)):\n",
        "        if sequencia_estados[i] == \"Correto\":\n",
        "            # Aumente a probabilidade de permanecer em \"Correto\" com base na precisão\n",
        "            probabilidades[i] *= 0.95  # Exemplo: 95% de precisão\n",
        "        else:\n",
        "            # Aumente a probabilidade de permanecer em \"Incorreto\" com base na precisão\n",
        "            probabilidades[i] *= 0.85\n",
        "\n",
        "    return sequencia_estados, attack_sequence, probabilidades\n"
      ],
      "metadata": {
        "id": "419CXoAEiylK"
      },
      "execution_count": null,
      "outputs": []
    },
    {
      "cell_type": "code",
      "source": [
        "# Função para simular o desempenho\n",
        "def simulate_performance(purchase, precision):\n",
        "    start_time = time.time()\n",
        "    sequencia_estados, attack_sequence, probabilidades = simulate_security(purchase, precision)\n",
        "    end_time = time.time()\n",
        "    response_time = end_time - start_time\n",
        "\n",
        "    if response_time > 30:\n",
        "        optimize_code()\n",
        "\n",
        "    return sequencia_estados, attack_sequence, probabilidades, response_time\n",
        "\n",
        "# Função fictícia para otimizar o código\n",
        "def optimize_code():\n",
        "    print(\"Otimizando o código...\")\n"
      ],
      "metadata": {
        "id": "JWhJsnudiym6"
      },
      "execution_count": null,
      "outputs": []
    },
    {
      "cell_type": "code",
      "source": [
        "# Função para simular tolerância a falhas\n",
        "def simulate_fault_tolerance(purchase, precision):\n",
        "    sequencia_estados, attack_sequence, probabilidades, response_time = simulate_performance(purchase, precision)\n",
        "\n",
        "    if response_time > 30:\n",
        "        try:\n",
        "            reconnect_to_database()\n",
        "        except ConnectionError:\n",
        "            handle_connection_failure()\n",
        "\n",
        "    return sequencia_estados, attack_sequence, probabilidades, response_time"
      ],
      "metadata": {
        "id": "1UzRQlNIiyox"
      },
      "execution_count": null,
      "outputs": []
    },
    {
      "cell_type": "code",
      "source": [
        "# Função fictícia para reconectar ao banco de dados\n",
        "def reconnect_to_database():\n",
        "    print(\"Tentando reconectar ao banco de dados...\")\n",
        "\n",
        "# Função fictícia para lidar com falha de conexão\n",
        "def handle_connection_failure():\n",
        "    print(\"Lidando com falha de conexão...\")\n"
      ],
      "metadata": {
        "id": "FyZ7xr1biysV"
      },
      "execution_count": null,
      "outputs": []
    }
  ],
  "metadata": {
    "colab": {
      "provenance": []
    },
    "kernelspec": {
      "display_name": "Python 3",
      "name": "python3"
    },
    "language_info": {
      "name": "python"
    }
  },
  "nbformat": 4,
  "nbformat_minor": 0
}